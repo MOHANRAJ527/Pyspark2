{
  "cells": [
    {
      "cell_type": "markdown",
      "source": [
        "# New Section"
      ],
      "metadata": {
        "id": "4dsBg-TYIhNM"
      }
    },
    {
      "cell_type": "code",
      "source": [
        "from pyspark.sql import SparkSession\n",
        "from pyspark.sql import Window\n",
        "from pyspark.sql.functions import col, sum, avg"
      ],
      "metadata": {
        "id": "pfDNXEYzCNZo"
      },
      "execution_count": null,
      "outputs": []
    },
    {
      "cell_type": "code",
      "source": [
        "spark = SparkSession.builder \\\n",
        "    .appName(\"CustomerTransactions\") \\\n",
        "    .getOrCreate()"
      ],
      "metadata": {
        "id": "OiFDHPJzCpLD"
      },
      "execution_count": null,
      "outputs": []
    },
    {
      "cell_type": "code",
      "source": [
        "data = [\n",
        "    (1, \"2024-01-01\", 100.0),\n",
        "    (1, \"2024-01-03\", 50.0),\n",
        "    (1, \"2024-01-07\", 200.0),\n",
        "    (2, \"2024-01-01\", 150.0),\n",
        "    (2, \"2024-01-04\", 300.0),\n",
        "]\n",
        "columns = [\"customer_id\", \"transaction_date\", \"amount\"]\n",
        "transactions = spark.createDataFrame(data, schema=columns)"
      ],
      "metadata": {
        "id": "9W9vhDEzDieb"
      },
      "execution_count": null,
      "outputs": []
    },
    {
      "cell_type": "code",
      "source": [
        "from pyspark.sql.functions import to_date\n",
        "transactions = transactions.withColumn(\"transaction_date\", to_date(\"transaction_date\"))"
      ],
      "metadata": {
        "id": "rv6h6kbsDia6"
      },
      "execution_count": null,
      "outputs": []
    },
    {
      "cell_type": "code",
      "source": [
        "cumulative_window = Window.partitionBy(\"customer_id\").orderBy(\"transaction_date\") \\\n",
        "                          .rowsBetween(Window.unboundedPreceding, Window.currentRow)"
      ],
      "metadata": {
        "id": "19eAS9fIDiYa"
      },
      "execution_count": null,
      "outputs": []
    },
    {
      "cell_type": "code",
      "source": [
        "rolling_window = Window.partitionBy(\"customer_id\").orderBy(\"transaction_date\") \\\n",
        "                       .rangeBetween(-6, 0)"
      ],
      "metadata": {
        "id": "k2P7kKxNDiVg"
      },
      "execution_count": null,
      "outputs": []
    },
    {
      "cell_type": "code",
      "source": [
        "transactions = transactions.withColumn(\n",
        "    \"cumulative_amount\",\n",
        "    sum(\"amount\").over(cumulative_window)\n",
        ")"
      ],
      "metadata": {
        "id": "Mb5Zdt9YDiPP"
      },
      "execution_count": null,
      "outputs": []
    },
    {
      "cell_type": "code",
      "source": [
        "rolling_window = Window.partitionBy(\"customer_id\").orderBy(\"transaction_date\").rowsBetween(-6, 0)\n",
        "transactions = transactions.withColumn(\n",
        "    \"rolling_avg_amount\",\n",
        "    avg(\"amount\").over(rolling_window)\n",
        ")"
      ],
      "metadata": {
        "id": "KF3ZJOfGEHYR"
      },
      "execution_count": null,
      "outputs": []
    },
    {
      "cell_type": "code",
      "source": [
        "result_df = transactions.select(\n",
        "    \"customer_id\",\n",
        "    \"transaction_date\",\n",
        "    \"amount\",\n",
        "    \"cumulative_amount\",\n",
        "    \"rolling_avg_amount\"\n",
        ")"
      ],
      "metadata": {
        "id": "iNuIv3TPFhhN"
      },
      "execution_count": null,
      "outputs": []
    },
    {
      "cell_type": "code",
      "source": [
        "result_df.show()"
      ],
      "metadata": {
        "colab": {
          "base_uri": "https://localhost:8080/"
        },
        "id": "hfvdwnSoEHUw",
        "outputId": "9415826e-29f2-4cf4-fcdf-12d753c7fe8c"
      },
      "execution_count": null,
      "outputs": [
        {
          "output_type": "stream",
          "name": "stdout",
          "text": [
            "+-----------+----------------+------+-----------------+------------------+\n",
            "|customer_id|transaction_date|amount|cumulative_amount|rolling_avg_amount|\n",
            "+-----------+----------------+------+-----------------+------------------+\n",
            "|          1|      2024-01-01| 100.0|            100.0|             100.0|\n",
            "|          1|      2024-01-03|  50.0|            150.0|              75.0|\n",
            "|          1|      2024-01-07| 200.0|            350.0|116.66666666666667|\n",
            "|          2|      2024-01-01| 150.0|            150.0|             150.0|\n",
            "|          2|      2024-01-04| 300.0|            450.0|             225.0|\n",
            "+-----------+----------------+------+-----------------+------------------+\n",
            "\n"
          ]
        }
      ]
    }
  ],
  "metadata": {
    "colab": {
      "toc_visible": true,
      "provenance": []
    },
    "kernelspec": {
      "display_name": "Python 3",
      "name": "python3"
    }
  },
  "nbformat": 4,
  "nbformat_minor": 0
}